{
 "cells": [
  {
   "cell_type": "markdown",
   "id": "894d7aaf-7432-46f0-b059-900dd2c53ea1",
   "metadata": {},
   "source": [
    "# Simple Calculator"
   ]
  },
  {
   "cell_type": "code",
   "execution_count": 15,
   "id": "f161bdbf-0886-4329-9746-7b9a5d4deb35",
   "metadata": {},
   "outputs": [
    {
     "name": "stdout",
     "output_type": "stream",
     "text": [
      "12\n"
     ]
    }
   ],
   "source": [
    "num_1 = 9\n",
    "num_2 = 3\n",
    "\n",
    "add(num_1, num_2)\n",
    "\n",
    "print (num_1 + num_2)"
   ]
  },
  {
   "cell_type": "code",
   "execution_count": 17,
   "id": "c0f47d15-a9e8-489d-bade-3d4f1c39f25a",
   "metadata": {},
   "outputs": [
    {
     "name": "stdout",
     "output_type": "stream",
     "text": [
      "6\n"
     ]
    }
   ],
   "source": [
    "subtract(num_1, num_2)\n",
    "\n",
    "print (num_1 - num_2)"
   ]
  },
  {
   "cell_type": "code",
   "execution_count": 19,
   "id": "096ecbcb-5911-4f8c-a417-668c6b979a70",
   "metadata": {},
   "outputs": [
    {
     "name": "stdout",
     "output_type": "stream",
     "text": [
      "27\n"
     ]
    }
   ],
   "source": [
    "multiply(num_1, num_2)\n",
    "\n",
    "print (num_1 * num_2)"
   ]
  },
  {
   "cell_type": "code",
   "execution_count": 21,
   "id": "2c08f60d-e424-43c3-9cb6-2bb7f11d3bc2",
   "metadata": {},
   "outputs": [
    {
     "name": "stdout",
     "output_type": "stream",
     "text": [
      "3.0\n"
     ]
    }
   ],
   "source": [
    "divide(num_1, num_2)\n",
    "\n",
    "print (num_1 / num_2)"
   ]
  },
  {
   "cell_type": "markdown",
   "id": "f8dc003b-20e1-45c8-acdd-75be9ee7103f",
   "metadata": {},
   "source": [
    "# In the above Program, we take two numeric values \n",
    "(here, we are taking float data type), and we get all the outputs\n",
    "(addition, subtraction, multiplication, and division) once we input both numbers"
   ]
  },
  {
   "cell_type": "markdown",
   "id": "551dce7b-92e8-430d-b8b1-cf38ad653417",
   "metadata": {},
   "source": [
    "# Temperature conversion "
   ]
  },
  {
   "cell_type": "markdown",
   "id": "595d26e4-fd2c-4a46-b525-7a5fa1642cb5",
   "metadata": {},
   "source": [
    "Celsius(°C) = (Fahrenheit(°F) - 32) × 5/9\n",
    "\n",
    "Fahrenheit(°F) = (Celsius(°C) × 9/5) + 32\n",
    "\n",
    "\n",
    "Celcius(°C) = 40\n",
    "\n",
    "Fahrenheit(°F) = 94.6"
   ]
  },
  {
   "cell_type": "code",
   "execution_count": 46,
   "id": "b7028072-124f-4b7e-95f9-a444e9fbdd9d",
   "metadata": {},
   "outputs": [
    {
     "name": "stdout",
     "output_type": "stream",
     "text": [
      "34.77777777777778\n"
     ]
    }
   ],
   "source": [
    "print ((94.6 - 32) * 5/9)"
   ]
  },
  {
   "cell_type": "code",
   "execution_count": 52,
   "id": "ed312916-651c-4fc3-bec0-3c9155673887",
   "metadata": {},
   "outputs": [
    {
     "name": "stdout",
     "output_type": "stream",
     "text": [
      "104.0\n"
     ]
    }
   ],
   "source": [
    "print ((40 * 9/5) + 32)"
   ]
  },
  {
   "cell_type": "markdown",
   "id": "bbcc1dc0-dba5-462d-9bb4-0902ba3431c6",
   "metadata": {},
   "source": [
    "# Odd or Even Checker"
   ]
  },
  {
   "cell_type": "markdown",
   "id": "96b82bec-0ddc-4608-9720-7b379a3c79d9",
   "metadata": {},
   "source": [
    "Num_1 = int(22)\n",
    "Num_2 = int(7)\n",
    "\n",
    "if number % 2 == 0:\n",
    "    print(f\"{22} is even.\")\n",
    "\n",
    "else:\n",
    "    print(f\"{7} is odd.\")"
   ]
  },
  {
   "cell_type": "code",
   "execution_count": null,
   "id": "d1da056b-4059-49a8-b804-91e0b5dc1fc1",
   "metadata": {},
   "outputs": [],
   "source": []
  }
 ],
 "metadata": {
  "kernelspec": {
   "display_name": "Python 3 (ipykernel)",
   "language": "python",
   "name": "python3"
  },
  "language_info": {
   "codemirror_mode": {
    "name": "ipython",
    "version": 3
   },
   "file_extension": ".py",
   "mimetype": "text/x-python",
   "name": "python",
   "nbconvert_exporter": "python",
   "pygments_lexer": "ipython3",
   "version": "3.12.4"
  }
 },
 "nbformat": 4,
 "nbformat_minor": 5
}
